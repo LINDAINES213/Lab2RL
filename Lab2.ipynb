{
 "cells": [
  {
   "cell_type": "markdown",
   "id": "cd240cf5",
   "metadata": {},
   "source": [
    "<table style=\"width:100%; border-collapse: collapse;\">\n",
    "  <tr>\n",
    "    <td style=\"width:20%; vertical-align:middle;\">\n",
    "      <img src=\"LogoUVG.png\" width=\"400\"/>\n",
    "    </td>\n",
    "    <td style=\"text-align:left; vertical-align:middle;\">\n",
    "      <h2 style=\"margin-bottom: 0;\">Universidad del Valle de Guatemala - UVG</h2>\n",
    "      <h3 style=\"margin-top: 0;\">Facultad de Ingeniería - Computación</h3>\n",
    "      <p style=\"font-size: 16px; margin-bottom: 0; margin-top: -20px\">\n",
    "        <strong>Curso:</strong> CC3104 - Aprendizaje por Refuerzo \n",
    "        <strong>Sección:</strong> 10\n",
    "      </p>\n",
    "      <p style=\"font-size: 16px; margin: 0;\"><strong>Laboratorio 2:</strong> EDA</p>\n",
    "      <br>\n",
    "      <p style=\"font-size: 15px; margin: 0;\"><strong>Autores:</strong></p>\n",
    "      <ul style=\"margin-top: 5px; padding-left: 20px; font-size: 15px;\">\n",
    "        <li>Diego Alexander Hernández Silvestre - <strong>21270</strong></li>\n",
    "        <li>Linda Inés Jiménez Vides - <strong>21169</strong></li>\n",
    "        <li>Mario Antonio Guerra Morales - <strong>21008</strong></li>\n",
    "      </ul>\n",
    "    </td>\n",
    "  </tr>\n",
    "</table>"
   ]
  },
  {
   "cell_type": "markdown",
   "id": "aeb081d8",
   "metadata": {},
   "source": [
    "## 📝 Task 1\n",
    "Responda a cada de las siguientes preguntas de forma clara y lo más completamente posible.\n",
    "1. ¿Qué es un Markov Decision Process (MDP)?\n",
    "\n",
    "- Es un marco matemático con el cual se modelan decisiones en entornos estocásticos y secuenciales. Estos se basan en el principio de Markov, el cual establece que el estado futuro depende solamente del estado actual y la acción que se toma, no todo el historial.\n",
    "\n",
    "2. ¿Cuáles son los componentes principales de un MDP?\n",
    "\n",
    "- Sus componentes son: Estados (S), Acciones (A), Probabilidad de transición (P), Recompensa (R), y el Factor de Descuento (γ).\n",
    "\n",
    "3. ¿Cuál es el objetivo principal del aprendizaje por refuerzo con MDPs?\n",
    "\n",
    "- Su objetivo principal es de aprender una póliza óptima que maximice la recompensa obtenida y acumulada a largo plazo. La toma de decisiones que maximicen su beneficio total futuro."
   ]
  },
  {
   "cell_type": "markdown",
   "id": "4300126b",
   "metadata": {},
   "source": [
    "## 📝 Task 2\n",
    "\n",
    "1. Defina los componentes del MDP:\n",
    "    - Estados: S = {0, 1, 2, 3, 4, 5, 6, 7, 8}, donde cada número representa una celda del laberinto.\n",
    "    - Acciones: A = {arriba, abajo, izquierda, derecha}\n",
    "    - Probabilidades de transición: P(s' | s, a)\n",
    "    - Recompensas: R(s, a, s')"
   ]
  },
  {
   "cell_type": "code",
   "execution_count": 57,
   "id": "eea7eaaf",
   "metadata": {},
   "outputs": [],
   "source": [
    "# Estados y acciones\n",
    "states = list(range(9))  # 0 a 8\n",
    "actions = ['up', 'down', 'left', 'right']\n",
    "\n",
    "# Posiciones especiales\n",
    "start_state = 0\n",
    "goal_state = 2\n",
    "obstacle_states = [4, 8]\n",
    "\n",
    "# Función auxiliar para obtener estado nuevo\n",
    "def move(state, action):\n",
    "    row, col = divmod(state, 3)\n",
    "    if action == 'up':\n",
    "        row = max(row - 1, 0)\n",
    "    elif action == 'down':\n",
    "        row = min(row + 1, 2)\n",
    "    elif action == 'left':\n",
    "        col = max(col - 1, 0)\n",
    "    elif action == 'right':\n",
    "        col = min(col + 1, 2)\n",
    "    new_state = 3 * row + col\n",
    "    # No permite moverse a obstáculos\n",
    "    if new_state in obstacle_states:\n",
    "        return state\n",
    "    return new_state"
   ]
  },
  {
   "cell_type": "markdown",
   "id": "26e7f63a",
   "metadata": {},
   "source": [
    "2. Matriz de transición:\n",
    "    - Defina las probabilidades de transición P como un diccionario donde P[s][a] asigna los siguientes estados s' a sus probabilidades."
   ]
  },
  {
   "cell_type": "code",
   "execution_count": 58,
   "id": "5eb5325a",
   "metadata": {},
   "outputs": [],
   "source": [
    "import numpy as np\n",
    "\n",
    "# Probabilidad de transición determinista\n",
    "P = {s: {} for s in states}\n",
    "for s in states:\n",
    "    for a in actions:\n",
    "        s_prime = move(s, a)\n",
    "        P[s][a] = {s_prime: 1.0}\n"
   ]
  },
  {
   "cell_type": "markdown",
   "id": "706eda7a",
   "metadata": {},
   "source": [
    "3. Función de recompensa:\n",
    "    - Defina las recompensas R como un diccionario donde R[s][a][s'] da la recompensa por la transición del estado s al estado s' mediante la acción a."
   ]
  },
  {
   "cell_type": "code",
   "execution_count": 59,
   "id": "06918489",
   "metadata": {},
   "outputs": [],
   "source": [
    "\n",
    "R = {s: {} for s in states}\n",
    "\n",
    "for s in states:\n",
    "    for a in actions:\n",
    "        s_prime = move(s, a)\n",
    "        # Definir recompensas\n",
    "        if s_prime == goal_state:\n",
    "            reward = 10\n",
    "        elif s_prime in obstacle_states:\n",
    "            reward = -5\n",
    "        elif s == s_prime:\n",
    "            reward = -1  # penaliza quedarse en el mismo lugar\n",
    "        else:\n",
    "            reward = -0.1  # pequeña penalización por moverse\n",
    "        R[s][a] = {s_prime: reward}"
   ]
  },
  {
   "cell_type": "markdown",
   "id": "94792fb5",
   "metadata": {},
   "source": [
    "4. Política:\n",
    "    - Defina una política π como un diccionario que asigna cada estado a una acción."
   ]
  },
  {
   "cell_type": "code",
   "execution_count": 60,
   "id": "70f72d0f",
   "metadata": {},
   "outputs": [],
   "source": [
    "policy = {\n",
    "    0: 'right',\n",
    "    1: 'right',\n",
    "    2: 'down',\n",
    "    3: 'right',\n",
    "    4: 'down',\n",
    "    5: 'left',\n",
    "    6: 'right',\n",
    "    7: 'right',\n",
    "    8: 'up'\n",
    "}"
   ]
  },
  {
   "cell_type": "markdown",
   "id": "28ff4b92",
   "metadata": {},
   "source": [
    "5. Simular la política:\n",
    "    - Escriba una función para simular la política en el MDP para una cierta cantidad de pasos.\n",
    "    - Realice un seguimiento de la recompensa acumulada obtenida siguiendo la política."
   ]
  },
  {
   "cell_type": "code",
   "execution_count": 61,
   "id": "bffa7d10",
   "metadata": {},
   "outputs": [
    {
     "name": "stdout",
     "output_type": "stream",
     "text": [
      "Trayectoria: [0, 1, 2]\n"
     ]
    }
   ],
   "source": [
    "def simulatePolicy(policy, start_state, P, R, num_steps=10):\n",
    "    state = start_state\n",
    "    total_reward = 0\n",
    "    trajectory = [state]\n",
    "\n",
    "    for _ in range(num_steps):\n",
    "        action = policy[state]\n",
    "\n",
    "        next_state = list(P[state][action].keys())[0]\n",
    "\n",
    "        reward = R[state][action][next_state]\n",
    "\n",
    "        total_reward += reward\n",
    "        trajectory.append(next_state)\n",
    "        state = next_state\n",
    "\n",
    "        if state == goal_state:\n",
    "            break\n",
    "\n",
    "    return trajectory, total_reward\n",
    "trajectory, total_reward = simulatePolicy(policy, start_state, P, R, num_steps=20)\n",
    "print(\"Trayectoria:\", trajectory)\n"
   ]
  },
  {
   "cell_type": "markdown",
   "id": "6f30809d",
   "metadata": {},
   "source": [
    "6. Evaluar la Política:\n",
    "    - Simule la póliza varias veces para estimar la recompensa acumulada promedio"
   ]
  },
  {
   "cell_type": "code",
   "execution_count": 62,
   "id": "c763439e",
   "metadata": {},
   "outputs": [
    {
     "name": "stdout",
     "output_type": "stream",
     "text": [
      "Recompensa promedio: 9.9\n",
      "Ejemplo de recompensas: [9.9, 9.9, 9.9, 9.9, 9.9, 9.9, 9.9, 9.9, 9.9, 9.9, 9.9, 9.9, 9.9, 9.9, 9.9, 9.9, 9.9, 9.9, 9.9, 9.9, 9.9, 9.9, 9.9, 9.9, 9.9, 9.9, 9.9, 9.9, 9.9, 9.9, 9.9, 9.9, 9.9, 9.9, 9.9, 9.9, 9.9, 9.9, 9.9, 9.9, 9.9, 9.9, 9.9, 9.9, 9.9, 9.9, 9.9, 9.9, 9.9, 9.9, 9.9, 9.9, 9.9, 9.9, 9.9, 9.9, 9.9, 9.9, 9.9, 9.9, 9.9, 9.9, 9.9, 9.9, 9.9, 9.9, 9.9, 9.9, 9.9, 9.9, 9.9, 9.9, 9.9, 9.9, 9.9, 9.9, 9.9, 9.9, 9.9, 9.9, 9.9, 9.9, 9.9, 9.9, 9.9, 9.9, 9.9, 9.9, 9.9, 9.9, 9.9, 9.9, 9.9, 9.9, 9.9, 9.9, 9.9, 9.9, 9.9, 9.9]\n"
     ]
    }
   ],
   "source": [
    "def evaluatePolicy(policy, start_state, P, R, num_steps=20, num_simulations=100):\n",
    "    rewards = []\n",
    "    \n",
    "    for _ in range(num_simulations):\n",
    "        _, total_reward = simulatePolicy(policy, start_state, P, R, num_steps)\n",
    "        rewards.append(total_reward)\n",
    "    \n",
    "    average_reward = np.mean(rewards)\n",
    "    return average_reward, rewards\n",
    "\n",
    "average_reward, all_rewards = evaluatePolicy(policy, start_state, P, R, num_steps=20, num_simulations=100)\n",
    "\n",
    "print(\"Recompensa promedio:\", average_reward)\n",
    "print(\"Ejemplo de recompensas:\", all_rewards)\n"
   ]
  },
  {
   "attachments": {
    "image-2.png": {
     "image/png": "[encoded data removed]"
    },
    "image-3.png": {
     "image/png": "[encoded data removed]"
    },
    "image.png": {
     "image/png": "[encoded data removed]"
    }
   },
   "cell_type": "markdown",
   "id": "9a7b8994",
   "metadata": {},
   "source": [
    "## 📝 Task 3\n",
    "<strong>En clase hemos dicho que una vez tengamos v* o q* sabemos la póliza óptima π* ¿Por qué?<br>\n",
    "Puede consultar el libro en la sección 3.8 en adelante</strong>\n",
    "\n",
    "\n",
    "Teniendo la función de valor óptimo de un estado (v*):\n",
    "\n",
    "![image.png](attachment:image.png)\n",
    "\n",
    "y teniendo la función de valor óptimo de estado-acción (q*):\n",
    "\n",
    "![image-2.png](attachment:image-2.png)\n",
    "\n",
    "existe la relación entre q* y v*:\n",
    "\n",
    "![image-3.png](attachment:image-3.png)\n",
    "\n",
    "la cual nos dice que el valor óptimo de tomar una acción a en s es la recompensa esperada al hacer esa acción, más el valor óptimo esperado del siguiente estado. Esto significa que, en cada estado, tomamos la acción que tiene el mayor valor q\\*, asegurando así el mayor retorno posible a largo plazo. Si solo tenemos v\\*(s), podemos calcular q\\*(s, a) usando la relación mostrada antes, y de igual manera elegir la acción que maximice este valor esperado. Por lo que, conocer v\\* o q\\* nos permite construir directamente la política óptima π\\* de manera sencilla, simplemente maximizando en cada estado.\n",
    "\n"
   ]
  }
 ],
 "metadata": {
  "kernelspec": {
   "display_name": "venv",
   "language": "python",
   "name": "python3"
  },
  "language_info": {
   "codemirror_mode": {
    "name": "ipython",
    "version": 3
   },
   "file_extension": ".py",
   "mimetype": "text/x-python",
   "name": "python",
   "nbconvert_exporter": "python",
   "pygments_lexer": "ipython3",
   "version": "3.13.5"
  }
 },
 "nbformat": 4,
 "nbformat_minor": 5
}
